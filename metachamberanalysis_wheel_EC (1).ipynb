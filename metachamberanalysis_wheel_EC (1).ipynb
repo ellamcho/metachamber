{
 "cells": [
  {
   "cell_type": "markdown",
   "id": "3320660d",
   "metadata": {},
   "source": [
    "Metabolic Chamber Data Analysis: abx"
   ]
  },
  {
   "cell_type": "code",
   "execution_count": null,
   "id": "1dfdb76c",
   "metadata": {},
   "outputs": [],
   "source": [
    "# Import pertinent packages\n",
    "\n",
    "import numpy as np\n",
    "import pandas as pd\n",
    "import matplotlib as mpl\n",
    "import matplotlib.pyplot as plt\n",
    "import os"
   ]
  },
  {
   "cell_type": "code",
   "execution_count": null,
   "id": "cb59ffe0",
   "metadata": {},
   "outputs": [],
   "source": [
    "# Set working directory\n",
    "path = \"/Users/ellacho/Desktop\"\n",
    "os.chdir(path)"
   ]
  },
  {
   "cell_type": "code",
   "execution_count": null,
   "id": "2197e3a6",
   "metadata": {},
   "outputs": [],
   "source": [
    "# Upload data.. only upload after deleting title rows\n",
    "data = pd.read_csv('052523_aba_abx_EC_KK.csv', sep=',')\n",
    "print(data)"
   ]
  },
  {
   "cell_type": "markdown",
   "id": "8d974e15",
   "metadata": {},
   "source": [
    "Data Wrangling"
   ]
  },
  {
   "cell_type": "code",
   "execution_count": null,
   "id": "b01a50d8",
   "metadata": {},
   "outputs": [],
   "source": [
    "# Separate data by each box\n",
    "\n",
    "boxdata = []\n",
    "for i in range(0,9):\n",
    "    boxdata.append(data.loc[data['Box'] == i])\n",
    "    \n",
    "# boxdata[#] gives you data per box; # = actual box number"
   ]
  },
  {
   "cell_type": "markdown",
   "id": "67d128b4",
   "metadata": {},
   "source": [
    "Box data parameters:\n",
    "\n",
    "SumTime: Total duration (mins) that the animal spent in the wheel <br>\n",
    "SumR+L: Total number of wheel rotations (both left and right) <br>\n",
    "SumRuns: Total number of run episodes (run = rpm > threshold set) <br>\n",
    "MaxSpeed: Maximum speed (rpm) in each run episode <br>\n",
    "AvgSpeed: Average speed of wheel (rpm) in all run episodes <br>\n",
    "MaxLen: Longest duration of a run episode <br>\n",
    "<br>\n",
    "Note: Wheel diameter = 12.5cm"
   ]
  },
  {
   "cell_type": "code",
   "execution_count": null,
   "id": "288cd0ee",
   "metadata": {},
   "outputs": [],
   "source": [
    "# Create an array of dates\n",
    "\n",
    "dates = np.array([\"5/26/2023\", \"5/27/2023\", \"5/28/2023\", \"5/29/2023\"])"
   ]
  },
  {
   "cell_type": "code",
   "execution_count": null,
   "id": "8af197bb",
   "metadata": {},
   "outputs": [],
   "source": [
    "# Define a function to separate each box's data by date \n",
    "\n",
    "def boxdatafxn(boxdatabox, date_array):\n",
    "    boxdata_bydate = []\n",
    "    \n",
    "    for i in range(len(date_array)):\n",
    "        boxdata_bydate.append(boxdatabox.loc[boxdatabox['Date'] == date_array[i]])\n",
    "\n",
    "    return boxdata_bydate"
   ]
  },
  {
   "cell_type": "code",
   "execution_count": null,
   "id": "2f24b847",
   "metadata": {},
   "outputs": [],
   "source": [
    "# Iterate function over each box\n",
    "\n",
    "# Create an empty list to store data\n",
    "dates_boxdata = []\n",
    "\n",
    "for i in range(len(boxdata)):\n",
    "    dates_boxdata.append(boxdatafxn(boxdata[i], dates))\n",
    "    \n",
    "# Output: dates_boxdata[box number (1-8)][day (0-4)]['ColumnName']\n",
    "# To get single rows of data: ie dates_boxdata[1][4]['Drink1'].iloc[row number]"
   ]
  },
  {
   "cell_type": "markdown",
   "id": "160e600a",
   "metadata": {},
   "source": [
    "Running wheel analysis: # of Runs"
   ]
  },
  {
   "cell_type": "code",
   "execution_count": null,
   "id": "c17647a0",
   "metadata": {},
   "outputs": [],
   "source": [
    "# Create a function to find the sum of total wheel revolutions \n",
    "\n",
    "def sumrunfxn(dates_boxdata_array):\n",
    "    \n",
    "    sumruns_array = np.zeros(len(dates))\n",
    "    \n",
    "    for i in range(len(dates)):\n",
    "        sumruns_array[i] = np.sum(dates_boxdata_array[i]['SumR+L'])\n",
    "    \n",
    "    return sumruns_array"
   ]
  },
  {
   "cell_type": "code",
   "execution_count": null,
   "id": "865f3397",
   "metadata": {},
   "outputs": [],
   "source": [
    "# Iterate sum function over each box\n",
    "\n",
    "sumruns = []\n",
    "\n",
    "for i in range(len(boxdata)):\n",
    "    sumruns.append(sumrunfxn(dates_boxdata[i]))\n",
    "    \n",
    "# Notation: sumruns[box#] gives that box's summed runs per day "
   ]
  },
  {
   "cell_type": "markdown",
   "id": "85691df9",
   "metadata": {},
   "source": [
    "Food intake and drink analysis"
   ]
  },
  {
   "cell_type": "code",
   "execution_count": null,
   "id": "ddd3ac9e",
   "metadata": {},
   "outputs": [],
   "source": [
    "# Create a function to measure food intake in each time interval (because measurements on raw data are cumulative)\n",
    "\n",
    "def intake(date_box_array, intaketype):\n",
    "    # Create an empty array to store time intervals and food consumed\n",
    "    time_int = np.arange(0, 9 * len(date_box_array), 9) # units: Minutes since trial start\n",
    "    food_int = np.zeros(len(date_box_array)) # units: Grams or mL consumed in each interval\n",
    "    \n",
    "    for i in range(len(date_box_array) - 1):\n",
    "        food_int[i] = date_box_array[intaketype].iloc[i + 1] - date_box_array[intaketype].iloc[i]\n",
    "        \n",
    "    return time_int, food_int\n",
    "\n",
    "# Output: ie foodintake(dates_boxdata[1][0], 'Drink1')[0] gives time array, [1] gives food consumed array"
   ]
  },
  {
   "cell_type": "code",
   "execution_count": null,
   "id": "c04d0843",
   "metadata": {},
   "outputs": [],
   "source": [
    "# Create a function to obtain food intake and liquid intake for each box (for each day too)\n",
    "\n",
    "def foodintakebox(dates_boxdata_array):\n",
    "    waterintake_boxdata = []\n",
    "    foodintake_boxdata = []\n",
    "    \n",
    "    for i in range(len(dates)):\n",
    "        waterintake_boxdata.append(intake(dates_boxdata_array[i], 'Drink1'))\n",
    "        foodintake_boxdata.append(intake(dates_boxdata_array[i], 'Feed1'))\n",
    "    \n",
    "    return waterintake_boxdata, foodintake_boxdata\n",
    "\n",
    "# Output syntax: ie foodintakebox(dates_boxdata[box number])[0 or 1][day number 0-4]\n",
    "    # [0] gives water, [1] gives food"
   ]
  },
  {
   "cell_type": "code",
   "execution_count": null,
   "id": "ce9d3779",
   "metadata": {},
   "outputs": [],
   "source": [
    "# Evaluate food intakes for each box \n",
    "\n",
    "intakedata = []\n",
    "\n",
    "for i in range(len(boxdata)):\n",
    "    intakedata.append(foodintakebox(dates_boxdata[i]))\n",
    "    \n",
    "# Output: foodintakedata[box number][breeder vs. chow 0-1][day number 0-4][time vs. intake 0-1]"
   ]
  },
  {
   "cell_type": "code",
   "execution_count": null,
   "id": "202045d1",
   "metadata": {},
   "outputs": [],
   "source": [
    "# Find the total amt of food consumed per day for each food and each mouse\n",
    "\n",
    "def totalfood(foodintakebox_array):\n",
    "    \n",
    "    sum_breederintake_boxdata = []\n",
    "    sum_chowintake_boxdata = []\n",
    "    \n",
    "    for i in range(len(dates)):\n",
    "        sum_breederintake_boxdata.append(np.sum(foodintakebox_array[0][i][1]))\n",
    "        sum_chowintake_boxdata.append(np.sum(foodintakebox_array[1][i][1]))\n",
    "    \n",
    "    return sum_breederintake_boxdata, sum_chowintake_boxdata\n",
    "\n",
    "# Output syntax: ie totalfood(dates_boxdata[box number])[0 or 1][day number 0-4]\n",
    "    # [0] gives breeder total, [1] gives chow total"
   ]
  },
  {
   "cell_type": "code",
   "execution_count": null,
   "id": "0230ff3f",
   "metadata": {},
   "outputs": [],
   "source": [
    "# Evaluate food intakes for each box \n",
    "\n",
    "foodintakedata = []\n",
    "\n",
    "for i in range(len(boxdata)):\n",
    "    foodintakedata.append(totalfood(intakedata[i]))\n",
    "    \n",
    "# Output:foodintakedata[box number][drink vs. chow 0-1][day number 0-4] gives the total intake of that day"
   ]
  },
  {
   "cell_type": "code",
   "execution_count": null,
   "id": "b9cfa1a2",
   "metadata": {},
   "outputs": [],
   "source": [
    "# Create a function to find the sum of food intake\n",
    "\n",
    "def sumintakefxn(foodintakebox_array):\n",
    "    \n",
    "    sumfood_array = np.zeros(len(dates))\n",
    "    sumdrink_array = np.zeros(len(dates))\n",
    "    \n",
    "    for i in range(len(dates)):\n",
    "        sumfood_array[i] = np.sum(foodintakebox_array[1][i])\n",
    "        sumdrink_array[i] = np.sum(foodintakebox_array[0][i])\n",
    "        \n",
    "    \n",
    "    return sumfood_array, sumdrink_array"
   ]
  },
  {
   "cell_type": "code",
   "execution_count": null,
   "id": "5159d238",
   "metadata": {},
   "outputs": [],
   "source": [
    "# Iterate over all of the boxes \n",
    "\n",
    "sumintake = []\n",
    "\n",
    "for i in range(len(boxdata)):\n",
    "    sumintake.append(sumintakefxn(foodintakedata[i]))\n",
    "    \n",
    "# Notation: sumintake[box#][0 for food, 1 for drink]"
   ]
  },
  {
   "cell_type": "markdown",
   "id": "0a7df4e0",
   "metadata": {},
   "source": [
    "Create dataframes for export"
   ]
  },
  {
   "cell_type": "code",
   "execution_count": null,
   "id": "14045f46",
   "metadata": {},
   "outputs": [],
   "source": [
    "# Create a dataframe of total runs per day\n",
    "\n",
    "sumruns_df = pd.DataFrame({\n",
    "\"m1\": sumruns[1],\n",
    "\"m2\": sumruns[2],\n",
    "\"m3\": sumruns[3],\n",
    "\"m4\": sumruns[4],\n",
    "\"m5\": sumruns[5],\n",
    "\"m6\": sumruns[6],\n",
    "\"m7\": sumruns[7],\n",
    "\"m8\": sumruns[8]}, \n",
    "                       index = dates)"
   ]
  },
  {
   "cell_type": "code",
   "execution_count": null,
   "id": "19e301d3",
   "metadata": {},
   "outputs": [],
   "source": [
    "# Create a dataframe of total food consumption per day\n",
    "\n",
    "totalfood_df = pd.DataFrame({\n",
    "\"m1\": sumintake[1][0],\n",
    "\"m2\": sumintake[2][0],\n",
    "\"m3\": sumintake[3][0],\n",
    "\"m4\": sumintake[4][0],\n",
    "\"m5\": sumintake[5][0],\n",
    "\"m6\": sumintake[6][0],\n",
    "\"m7\": sumintake[7][0],\n",
    "\"m8\": sumintake[8][0]}, \n",
    "                       index = dates)"
   ]
  },
  {
   "cell_type": "code",
   "execution_count": null,
   "id": "18b4752f",
   "metadata": {},
   "outputs": [],
   "source": [
    "# Create a dataframe of total drink consumption per day\n",
    "\n",
    "totaldrink_df = pd.DataFrame({\n",
    "\"m1\": sumintake[1][1],\n",
    "\"m2\": sumintake[2][1],\n",
    "\"m3\": sumintake[3][1],\n",
    "\"m4\": sumintake[4][1],\n",
    "\"m5\": sumintake[5][1],\n",
    "\"m6\": sumintake[6][1],\n",
    "\"m7\": sumintake[7][1],\n",
    "\"m8\": sumintake[8][1]}, \n",
    "                       index = dates)"
   ]
  },
  {
   "cell_type": "code",
   "execution_count": null,
   "id": "8d979f62",
   "metadata": {},
   "outputs": [],
   "source": [
    "# Export dataframes\n",
    "sumruns_df.to_csv(r'/Users/ellacho/Downloads/sumruns_df_baseline.csv')\n",
    "totalfood_df.to_csv(r'/Users/ellacho/Downloads/totalfood_df_baseline.csv')\n",
    "totaldrink_df.to_csv(r'/Users/ellacho/Downloads/totaldrink_df_baseline.csv')"
   ]
  }
 ],
 "metadata": {
  "kernelspec": {
   "display_name": "Python 3 (ipykernel)",
   "language": "python",
   "name": "python3"
  },
  "language_info": {
   "codemirror_mode": {
    "name": "ipython",
    "version": 3
   },
   "file_extension": ".py",
   "mimetype": "text/x-python",
   "name": "python",
   "nbconvert_exporter": "python",
   "pygments_lexer": "ipython3",
   "version": "3.9.7"
  }
 },
 "nbformat": 4,
 "nbformat_minor": 5
}
