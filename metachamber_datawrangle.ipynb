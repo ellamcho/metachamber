{
 "cells": [
  {
   "cell_type": "markdown",
   "id": "24bfbc09",
   "metadata": {},
   "source": [
    "In order for this script to work:\n",
    "Data must be exported in column format (how the data is displayed on the actual software)\n",
    "All variables must be exported"
   ]
  },
  {
   "cell_type": "code",
   "execution_count": 1,
   "id": "5760c55c",
   "metadata": {},
   "outputs": [],
   "source": [
    "# Import necessary packages \n",
    "\n",
    "import numpy as np\n",
    "import pandas as pd\n",
    "import matplotlib.pyplot as plt"
   ]
  },
  {
   "cell_type": "code",
   "execution_count": 2,
   "id": "f2ae2661",
   "metadata": {},
   "outputs": [],
   "source": [
    "data = pd.read_csv('/Users/ellacho/Downloads/10252023_treatment_UCN3_100ug_CHOW.csv', sep=',')"
   ]
  },
  {
   "cell_type": "code",
   "execution_count": 3,
   "id": "8bc69a48",
   "metadata": {},
   "outputs": [],
   "source": [
    "boxes = np.array([\"Box 1\", \"Box 2\", \"Box 3\", \"Box 4\", \"Box 5\", \"Box 6\", \"Box 7\", \"Box 8\"])"
   ]
  },
  {
   "cell_type": "code",
   "execution_count": 4,
   "id": "05d9eead",
   "metadata": {},
   "outputs": [],
   "source": [
    "# Separate data by box\n",
    "\n",
    "boxdata = []\n",
    "for i in range(len(boxes)):\n",
    "    boxdata.append(data.iloc[:,data.columns.get_loc(boxes[i]):data.columns.get_loc(boxes[i])+34])\n",
    "    \n",
    "# boxdata[#] gives you data per box"
   ]
  },
  {
   "cell_type": "code",
   "execution_count": 5,
   "id": "6b30a48d",
   "metadata": {},
   "outputs": [],
   "source": [
    "for i in range(len(boxdata)):\n",
    "    \n",
    "    # Get rid of irrelevant rows\n",
    "    new_header = boxdata[i].iloc[0] #grab the first row for the header\n",
    "    boxdata[i] = boxdata[i][1:] #take the data less the header row\n",
    "    boxdata[i].columns = new_header #set the header row as the df header\n",
    "    boxdata[i] = boxdata[i].iloc[1: , :] # drop unit row\n",
    "    \n",
    "    # Add date and time columns to each box's data\n",
    "    boxdata[i]['Date'] = data['Date']\n",
    "    boxdata[i]['Time'] = data['Time']\n",
    "    \n",
    "    # Change relevant variables to numeric\n",
    "    boxdata[i][['Feed1']]= boxdata[i][['Feed1']].apply(pd.to_numeric)\n",
    "    boxdata[i][['Drink1']]= boxdata[i][['Drink1']].apply(pd.to_numeric)\n",
    "    boxdata[i][['DistK']]= boxdata[i][['DistK']].apply(pd.to_numeric)\n",
    "    boxdata[i][['RER']]= boxdata[i][['RER']].apply(pd.to_numeric)\n",
    "    boxdata[i][['VO2(1)']]= boxdata[i][['VO2(1)']].apply(pd.to_numeric)\n",
    "    boxdata[i][['VCO2(1)']]= boxdata[i][['VCO2(1)']].apply(pd.to_numeric)\n",
    "    boxdata[i][['Time']]= boxdata[i][['Time']].apply(pd. to_datetime)\n",
    "    boxdata[i][['Date']]= boxdata[i][['Date']].apply(pd. to_datetime)\n",
    "    \n",
    "    # Evaluate intake and distance in each 9 min interval\n",
    "#     boxdata[i]['Food Intake per Int'] = boxdata[i]['Feed1'].diff()\n",
    "#     boxdata[i]['Water Intake per Int'] = boxdata[i]['Drink1'].diff()\n",
    "    boxdata[i]['DistK'] = boxdata[i]['DistK'].diff()"
   ]
  },
  {
   "cell_type": "code",
   "execution_count": 6,
   "id": "1b346185",
   "metadata": {},
   "outputs": [],
   "source": [
    "# Pull out relevant variables only\n",
    "boxdata_relevant = []\n",
    "\n",
    "for i in range(len(boxdata)):\n",
    "    boxdata_relevant.append(boxdata[i][['Date', \n",
    "                                        'Time', \n",
    "                                        'Feed1', \n",
    "                                        'Drink1', \n",
    "                                        'DistK', \n",
    "                                        'RER',\n",
    "                                       'VO2(1)',\n",
    "                                       'VCO2(1)']])"
   ]
  },
  {
   "cell_type": "code",
   "execution_count": 7,
   "id": "a8de7283",
   "metadata": {},
   "outputs": [],
   "source": [
    "# Define a function to evaluate data per date; adjust evaluations as necessary\n",
    "\n",
    "def date_data(boxdata_array, date_array):\n",
    "    total_foodintake = np.zeros(len(date_array))\n",
    "    total_drinkintake = np.zeros(len(date_array))\n",
    "    total_DistK = np.zeros(len(date_array))\n",
    "    total_VO2 = np.zeros(len(date_array))\n",
    "    total_VCO2 = np.zeros(len(date_array))\n",
    "    total_RER = np.zeros(len(date_array))\n",
    "\n",
    "    for i in range(len(date_array)):\n",
    "        total_foodintake[i] = boxdata_array['Feed1'].iloc[date_array[i]]\n",
    "        total_drinkintake[i] = boxdata_array['Drink1'].iloc[date_array[i]]\n",
    "        total_DistK[i] = boxdata_array['DistK'].iloc[date_array[i:i+1]].sum()\n",
    "        total_VO2[i] = boxdata_array['VO2(1)'].iloc[date_array[i:i+1]].mean()\n",
    "        total_VCO2[i] = boxdata_array['VCO2(1)'].iloc[date_array[i:i+1]].mean()\n",
    "        total_RER[i] = boxdata_array['RER'].iloc[date_array[i:i+1]].mean()\n",
    "\n",
    "    return date_array, total_foodintake, total_drinkintake, total_DistK, total_VO2, total_VCO2, total_RER"
   ]
  },
  {
   "cell_type": "code",
   "execution_count": 14,
   "id": "854253ff",
   "metadata": {},
   "outputs": [],
   "source": [
    "# Create array of days and params\n",
    "\n",
    "indices_12hour = np.arange(0, 1120, 80) # array every 12 hrs \n",
    "params = np.array(['Cum. Food Intake', 'Cum. Drink Intake', 'DistK per 12hr', \n",
    "                   'Avg VO2', 'Avg VCO2', 'Avg RER'])"
   ]
  },
  {
   "cell_type": "code",
   "execution_count": 15,
   "id": "90726a47",
   "metadata": {},
   "outputs": [],
   "source": [
    "# Apply date data function to evaluate all of those parameters for each box\n",
    "\n",
    "boxdata_relevant_day = []\n",
    "\n",
    "for i in range(len(boxdata_relevant)):\n",
    "    boxdata_relevant_day.append(date_data(boxdata_relevant[i], indices_12hour))\n",
    "    \n",
    "# Output: boxdata_relevant_day[x]; x = box number. \n",
    "# Outputs all arrays of relevant variables with measurements per date"
   ]
  },
  {
   "cell_type": "code",
   "execution_count": 16,
   "id": "e71d185f",
   "metadata": {},
   "outputs": [],
   "source": [
    "# Create function to change data into dataframes\n",
    "\n",
    "def transform_to_df(boxdata_date_array):\n",
    "    boxdata_date_array = pd.DataFrame(data=boxdata_date_array)\n",
    "    new_new_header = boxdata_date_array.iloc[0]\n",
    "    boxdata_date_array = boxdata_date_array[1:] \n",
    "    boxdata_date_array.columns = new_new_header\n",
    "    boxdata_date_array.insert(0, 'Params', params)\n",
    "    \n",
    "    return boxdata_date_array"
   ]
  },
  {
   "cell_type": "code",
   "execution_count": 17,
   "id": "bc30c1d5",
   "metadata": {},
   "outputs": [],
   "source": [
    "# Change data into dataframes \n",
    "\n",
    "finaldata = []\n",
    "\n",
    "for i in range(len(boxdata_relevant_day)):\n",
    "    finaldata.append(transform_to_df(boxdata_relevant_day[i]))"
   ]
  },
  {
   "cell_type": "code",
   "execution_count": 18,
   "id": "56193b26",
   "metadata": {},
   "outputs": [],
   "source": [
    "# Create box file names\n",
    "boxes_files = np.array([\"Box1.xlsx\", \"Box2.xlsx\", \"Box3.xlsx\", \"Box4.xlsx\", \n",
    "                        \"Box5.xlsx\", \"Box6.xlsx\", \"Box7.xlsx\", \"Box8.xlsx\"])\n",
    "\n",
    "boxes_finaldata = np.array([\"Box1data_int.xlsx\", \"Box2data_int.xlsx\", \"Box3data_int.xlsx\", \"Box4data_int.xlsx\", \n",
    "                        \"Box5data_int.xlsx\", \"Box6data_int.xlsx\", \"Box7data_int.xlsx\", \"Box8data_int.xlsx\"])"
   ]
  },
  {
   "cell_type": "code",
   "execution_count": 19,
   "id": "092b24c1",
   "metadata": {},
   "outputs": [],
   "source": [
    "# Export all individual box data\n",
    "for i in range(len(boxdata_relevant)):\n",
    "    boxdata_relevant[i].to_excel(boxes_files[i])\n",
    "    finaldata[i].to_excel(boxes_finaldata[i])"
   ]
  }
 ],
 "metadata": {
  "kernelspec": {
   "display_name": "Python 3 (ipykernel)",
   "language": "python",
   "name": "python3"
  },
  "language_info": {
   "codemirror_mode": {
    "name": "ipython",
    "version": 3
   },
   "file_extension": ".py",
   "mimetype": "text/x-python",
   "name": "python",
   "nbconvert_exporter": "python",
   "pygments_lexer": "ipython3",
   "version": "3.9.18"
  }
 },
 "nbformat": 4,
 "nbformat_minor": 5
}
